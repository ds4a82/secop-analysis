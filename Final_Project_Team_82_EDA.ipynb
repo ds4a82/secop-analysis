{
  "nbformat": 4,
  "nbformat_minor": 0,
  "metadata": {
    "colab": {
      "name": "Final_Project_Team 82_EDA.ipynb",
      "provenance": [],
      "private_outputs": true,
      "collapsed_sections": [],
      "toc_visible": true,
      "include_colab_link": true
    },
    "kernelspec": {
      "name": "python3",
      "display_name": "Python 3"
    }
  },
  "cells": [
    {
      "cell_type": "markdown",
      "metadata": {
        "id": "view-in-github",
        "colab_type": "text"
      },
      "source": [
        "<a href=\"https://colab.research.google.com/github/Jorgeduardo13/secop-analysis/blob/master/Final_Project_Team_82_EDA.ipynb\" target=\"_parent\"><img src=\"https://colab.research.google.com/assets/colab-badge.svg\" alt=\"Open In Colab\"/></a>"
      ]
    },
    {
      "cell_type": "markdown",
      "metadata": {
        "id": "fqSMo6G6WD60"
      },
      "source": [
        "\n",
        "# 1.Importe de Archivos SECOP I"
      ]
    },
    {
      "cell_type": "code",
      "metadata": {
        "id": "YAsuhDvrVkeX"
      },
      "source": [
        "import sys\n",
        "!pip install sodapy\n",
        "!{sys.executable} -m pip install -U pandas-profiling[notebook]\n",
        "!jupyter nbextension enable --py widgetsnbextension\n",
        "!pip uninstall pandas_profiling\n",
        "!pip install https://github.com/pandas-profiling/pandas-profiling/archive/master.zip\n"
      ],
      "execution_count": null,
      "outputs": []
    },
    {
      "cell_type": "code",
      "metadata": {
        "id": "JdTSmHZQP2Wp"
      },
      "source": [
        "!pip install sodapy\n",
        "\n",
        "from sodapy import Socrata\n",
        "import numpy as np\n",
        "import pandas as pd\n",
        "pd.set_option('display.max_columns', None)\n",
        "import numpy as np\n",
        "import plotly.express as px\n",
        "import datetime\n",
        "from pathlib import Path\n",
        "from ipywidgets import widgets\n",
        "from pandas_profiling import ProfileReport\n",
        "from datetime import datetime\n",
        "\n",
        "!pip install plotly>=4.0.0\n",
        "!wget https://github.com/plotly/orca/releases/download/v1.2.1/orca-1.2.1-x86_64.AppImage -O /usr/local/bin/orca\n",
        "!chmod +x /usr/local/bin/orca\n",
        "!apt-get install xvfb libgtk2.0-0 libgconf-2-4"
      ],
      "execution_count": null,
      "outputs": []
    },
    {
      "cell_type": "code",
      "metadata": {
        "id": "jrlf6jgBxCv2"
      },
      "source": [
        "def Nombre_Limpio(text):\n",
        "  words=text.split(\"_\")\n",
        "  s= \" \".join(words)\n",
        "  return s\n",
        "  \n",
        "def Outliers(df,cols):\n",
        "  df_copy=df.copy()\n",
        "  for col in cols:\n",
        "    ValMax=df_copy[col].quantile(0.75)+1.5*(df_copy[col].quantile(0.75)-df_copy[col].quantile(0.25))\n",
        "    df_copy=df_copy[df_copy[col]<ValMax].reset_index(drop=True)\n",
        "  return df_copy\n",
        "\n",
        "def GraficosConteos(df,w):\n",
        "  Prueba=df[w].value_counts().reset_index()\n",
        "  Prueba.columns=[w,\"Cantidad de registros\"]\n",
        "  Prueba=Prueba.sort_values(by=\"Cantidad de registros\",ascending=False)\n",
        "  fig=px.bar(Prueba[:20],x=w,y=\"Cantidad de registros\",text=\"Cantidad de registros\", title=f\"Gráfico de conteo {w}\")\n",
        "  fig.write_image(f\"images/Gráfico de conteo {w}.png\")\n",
        "  fig.show()\n",
        "def GraficosBoxplot(df,w):\n",
        "  fig=px.box(df,y=w, title=f\"Gráfico de boxplot {w}\")\n",
        "  fig.write_image(f\"images/Gráfico de boxplot {w}.png\")\n",
        "  fig.show()\n",
        "\n"
      ],
      "execution_count": null,
      "outputs": []
    },
    {
      "cell_type": "code",
      "metadata": {
        "id": "E3Re48QVWo7Q"
      },
      "source": [
        "client = Socrata(\"www.datos.gov.co\", None)\n",
        "\n",
        "results = client.get(\"xvdy-vvsk\",limit=100000)\n",
        "\n",
        "df_secopi = pd.DataFrame.from_records(results)\n",
        "df_secopi.reset_index(drop=True)\n",
        "df_secopi.columns"
      ],
      "execution_count": null,
      "outputs": []
    },
    {
      "cell_type": "code",
      "metadata": {
        "id": "KCuRgV4dWqzb"
      },
      "source": [
        "ProfileReport(df_secopi, title=\"Pre analisis Secop I\").to_file(\"PreAnalisis Secop I.html\")"
      ],
      "execution_count": null,
      "outputs": []
    },
    {
      "cell_type": "markdown",
      "metadata": {
        "id": "HBrqR5yrRkJF"
      },
      "source": [
        "** Hay que cambiar la naturaleza de las variables. Todas salieron objeto debido a que son sacadas de un API\n",
        "\n",
        "1. Hay datos desde el 2011 o 2010\n",
        "2. Hay una gran cantidad de contratos que no tienen un año confirmado del contrato lo tienen catalogado como 0.\n",
        "3. Existe una gran concentración (80%) de los contratos en territorial y un 19% en nacional. Sugiero quitar los que no estan definidos (0.1%)\n",
        "4. La entidad de territorial distrital municipal se divide en 6 niveles donde el lvl 6 es el que más tiene contratos(19%) seguido por el 5(2.8%) y el 4(2.3%).\n",
        "5. No creo que el nit de la entidad o el nombre especifico de esta sirva como variable a analizar por la alta cardinalidad. Existen 2646 entidades unicas en 10k de datos, sin embargo hay menos nits que nombres de empresa. Esto quiere decir que hay empresas no registradas con NIT.\n",
        "6. Existe una concentracion en los procesos 12, 4 y 13 de casi el 93.6%. Contratacion Directa, Regin Especial y Contratación de minima cuantia son los tipos de procesos que sobre salen.\n",
        "7. Más de la mitad de los contratos (59.4%) son conratos celebrados. Mientras que el 26.6% de los contratos son liquidados. Solo el 7.7% de los contratos estan en convocatoria. El otro 6% Son contratos que no hay finalizado.\n",
        "8. Prestación de servicios se divide practicamente en 2 los que no tienen ninguno o fueron presentados por profesionales. \n",
        "9. El regimen contractual es principalmente de Estatuto General de contratación , id=3. (71.8%) o de Regimen Especial id=2 (28%)\n",
        "10. El objeto contractual que tienen mayor cantidad de registros es de Gestión Pública(41.7%) y Servicios de Salud(11.2%).\n",
        "\n",
        "\n",
        "\n"
      ]
    },
    {
      "cell_type": "markdown",
      "metadata": {
        "id": "H6aSNHn6Vs7l"
      },
      "source": [
        "# 2.Importe de Archivos SECOP II\n",
        "\n",
        "\n"
      ]
    },
    {
      "cell_type": "code",
      "metadata": {
        "id": "yKcRKBdLVLlk"
      },
      "source": [
        "!pip install sodapy\n",
        "import pandas as pd\n",
        "from sodapy import Socrata\n",
        "\n",
        "\n",
        "client = Socrata(\"www.datos.gov.co\", None)\n",
        "\n",
        "\n",
        "results = client.get(\"jbjy-vk9h\", limit=100000)\n",
        "\n",
        "df_secopii = pd.DataFrame.from_records(results)"
      ],
      "execution_count": null,
      "outputs": []
    },
    {
      "cell_type": "code",
      "metadata": {
        "id": "WyMHTUWLWQfF"
      },
      "source": [
        "ProfileReport(df_secopii, title=\"Pre analisis Secop II\").to_file(\"PreAnalisis Secop II.html\")"
      ],
      "execution_count": null,
      "outputs": []
    },
    {
      "cell_type": "markdown",
      "metadata": {
        "id": "_1Uco8hDojjP"
      },
      "source": [
        "# 3.Tienda Virtual"
      ]
    },
    {
      "cell_type": "code",
      "metadata": {
        "id": "3eFabP-eozMq"
      },
      "source": [
        "client = Socrata(\"www.datos.gov.co\", None)\n",
        "\n",
        "\n",
        "results = client.get(\"rgxm-mmea\", limit=20000)\n",
        "\n",
        "df_tienda = pd.DataFrame.from_records(results)"
      ],
      "execution_count": null,
      "outputs": []
    },
    {
      "cell_type": "code",
      "metadata": {
        "id": "YXio6CHHpwlN"
      },
      "source": [
        "df_tienda"
      ],
      "execution_count": null,
      "outputs": []
    },
    {
      "cell_type": "code",
      "metadata": {
        "id": "jyrK2rOwp06G"
      },
      "source": [
        "ProfileReport(df_tienda, title=\"Pre analisis Tienda Virtual\").to_file(\"PreAnalisis Tienda Virtual.html\")"
      ],
      "execution_count": null,
      "outputs": []
    },
    {
      "cell_type": "markdown",
      "metadata": {
        "id": "5hh0joVYBxhE"
      },
      "source": [
        "# Cleaning Data"
      ]
    },
    {
      "cell_type": "markdown",
      "metadata": {
        "id": "x3q0XjOuH9oC"
      },
      "source": [
        "## Select columns to work\n"
      ]
    },
    {
      "cell_type": "markdown",
      "metadata": {
        "id": "GS04wMBrC8A3"
      },
      "source": [
        "Secop 1"
      ]
    },
    {
      "cell_type": "code",
      "metadata": {
        "id": "06GIZ3wRqaB5"
      },
      "source": [
        "cols_nums1= [\"cuantia_proceso\",\"tiempo_adiciones_en_dias\",\"cuantia_contrato\",\"valor_total_de_adiciones\",\"valor_contrato_con_adiciones\",\"plazo_de_ejec_del_contrato\"]\n",
        "no_cols= ['anno_cargue_secop','nit_de_la_entidad',\"id_tipo_de_proceso\",\"id_regimen_de_contratacion\",\"id_objeto_a_contratar\",\"fecha_de_cargue_en_el_secop\",\n",
        "           'numero_de_constancia','id_grupo','id_familia','id_clase','id_ajudicacion','tipo_doc_representante_legal',\n",
        "           'identific_del_represen_legal', 'nombre_del_represen_legal','rango_de_ejec_del_contrato','compromiso_presupuestal','id_origen_de_los_recursos',\n",
        "           'proponentes_seleccionados','calificacion_definitiva','id_sub_unidad_ejecutora','nombre_sub_unidad_ejecutora',\n",
        "           'espostconflicto','marcacion_adiciones','posicion_rubro', 'nombre_rubro', 'valor_rubro','sexo_replegal_entidad', 'pilar_acuerdo_paz', \n",
        "           'punto_acuerdo_paz','departamento_entidad', 'ultima_actualizacion','numero_de_proceso','numero_del_contrato',\n",
        "          'tiempo_adiciones_en_meses','origen_de_los_recursos','codigo_bpin',\t'ruta_proceso_en_secop_i','moneda','nivel_entidad','orden_entidad','objeto_del_contrato_a_la'\t]\n",
        "fechas_secop1= [ 'fecha_de_firma_del_contrato', 'fecha_ini_ejec_contrato','fecha_fin_ejec_contrato']"
      ],
      "execution_count": null,
      "outputs": []
    },
    {
      "cell_type": "markdown",
      "metadata": {
        "id": "kJlSsUpvIPFS"
      },
      "source": [
        "##Identify null values in columns"
      ]
    },
    {
      "cell_type": "code",
      "metadata": {
        "id": "iC2jp4DLzAA2"
      },
      "source": [
        "df_secopi[fechas_secop1].isna().any()"
      ],
      "execution_count": null,
      "outputs": []
    },
    {
      "cell_type": "code",
      "metadata": {
        "id": "oUp04Zww2Y1p"
      },
      "source": [
        "null_columns=df_secopi.columns[df_secopi.isnull().any()]\n",
        "df_secopi[null_columns].isnull().sum()/len(df_secopi)"
      ],
      "execution_count": null,
      "outputs": []
    },
    {
      "cell_type": "code",
      "metadata": {
        "id": "YEm_w8TTsb5D"
      },
      "source": [
        "#Impute values\n",
        "clean_secop1=df_secopi.drop(columns=no_cols,axis=1)\n",
        "clean_secop1=clean_secop1.dropna()\n"
      ],
      "execution_count": null,
      "outputs": []
    },
    {
      "cell_type": "code",
      "metadata": {
        "id": "Jj1z4F7IrFvz"
      },
      "source": [
        "# Cast variables to acording to their nature\n",
        "for x in cols_nums1:\n",
        "  clean_secop1[x]=clean_secop1[x].apply(lambda y: float(y))\n",
        "for x in fechas_secop1:\n",
        "  clean_secop1[x]=clean_secop1[x].apply(lambda y: datetime.strptime(str(y),\"%m/%d/%Y\"))"
      ],
      "execution_count": null,
      "outputs": []
    },
    {
      "cell_type": "code",
      "metadata": {
        "id": "BV3pXnFhIiqQ"
      },
      "source": [
        "#Lower main variable\n",
        "clean_secop1.detalle_del_objeto_a_contratar=clean_secop1.detalle_del_objeto_a_contratar.apply(lambda x: x.lower())\n"
      ],
      "execution_count": null,
      "outputs": []
    },
    {
      "cell_type": "code",
      "metadata": {
        "id": "oRnbTV1ESgMH"
      },
      "source": [
        "# Cambio Formato de los titulos \n",
        "cols_dirty_secopi=clean_secop1.columns.to_list()\n",
        "cols_clean_secopi=list (map(Nombre_Limpio,cols_dirty_secopi))\n",
        "clean_secop1.columns=cols_clean_secopi\n",
        "cols_nums1=list (map(Nombre_Limpio,cols_nums1))\n",
        "col_dates1 = list (map(Nombre_Limpio,fechas_secop1))\n",
        "col_dates1"
      ],
      "execution_count": null,
      "outputs": []
    },
    {
      "cell_type": "code",
      "metadata": {
        "id": "_NezV36h4byv"
      },
      "source": [
        "# Identify Outliers, days are too concentrated at the right that's why the filters is different for this variable.\n",
        "cleani_sindias=Outliers(clean_secop1,[\"cuantia proceso\",\"cuantia contrato\",'valor contrato con adiciones','plazo de ejec del contrato'])\n",
        "cleani=cleani_sindias[cleani_sindias['tiempo adiciones en dias']<cleani_sindias['tiempo adiciones en dias'].quantile(0.99)].reset_index(drop=True)\n",
        "cleani"
      ],
      "execution_count": null,
      "outputs": []
    },
    {
      "cell_type": "code",
      "metadata": {
        "id": "eeu5L0p3djBq"
      },
      "source": [
        "#Select columns string variables to graph\n",
        "colsi=clean_secop1.columns.to_list()\n",
        "colsi=[x for x in colsi[1:] if x not in col_dates1 and x not in cols_nums1 and x not in ['c digo de la entidad','identificacion del contratista']]\n",
        "colsi"
      ],
      "execution_count": null,
      "outputs": []
    },
    {
      "cell_type": "code",
      "metadata": {
        "id": "2ixJnL8vadMd"
      },
      "source": [
        "#Graph!\n",
        "for col in colsi:\n",
        "  GraficosConteos(cleani,col)"
      ],
      "execution_count": null,
      "outputs": []
    },
    {
      "cell_type": "code",
      "metadata": {
        "id": "P7lXW4qC4tDc"
      },
      "source": [
        "#Graph!\n",
        "for col in cols_nums1:\n",
        "  GraficosBoxplot(cleani,col)"
      ],
      "execution_count": null,
      "outputs": []
    },
    {
      "cell_type": "code",
      "metadata": {
        "id": "rkGsxAdDXhn6"
      },
      "source": [
        "\n",
        "cols_no_ii=['nit_entidad','orden','referencia_del_contrato','condiciones_de_entrega','tipodocproveedor','obligaci_n_ambiental','valor_de_pago_adelantado','valor_pendiente_de_pago',\n",
        "            'valor_amortizado','c_digo_bpin', 'anno_bpin','urlproceso','puntos_del_acuerdo','pilares_del_acuerdo','proceso_de_compra','id_contrato','codigo_de_categoria_principal',\n",
        "            'justificacion_modalidad_de','documento_proveedor','habilita_pago_adelantado'\t,'liquidaci_n'\t,'obligaciones_postconsumo','reversion','valor_pendiente_de','saldo_vigencia',\n",
        "            'espostconflicto','estado_bpin']\n",
        "cols_nums2=['valor_del_contrato','valor_del_contrato','valor_facturado', 'valor_pagado', 'valor_pendiente_de_ejecucion','saldo_cdp','dias_adicionados']\n",
        "cols_date2=[\"fecha_de_firma\" ,'fecha_de_inicio_del_contrato', 'fecha_de_fin_del_contrato','fecha_de_inicio_de_ejecucion', 'fecha_de_fin_de_ejecucion']\n",
        "\n"
      ],
      "execution_count": null,
      "outputs": []
    },
    {
      "cell_type": "code",
      "metadata": {
        "id": "UCyqOnuDpp7j"
      },
      "source": [
        "clean_secop2=df_secopii.drop(columns=cols_no_ii)\n",
        "clean_secop2=clean_secop2.dropna()"
      ],
      "execution_count": null,
      "outputs": []
    },
    {
      "cell_type": "code",
      "metadata": {
        "id": "qPgVVFkFfQLs"
      },
      "source": [
        "# Cast variables to acording to their nature\n",
        "for x in cols_nums2:\n",
        "  clean_secop2[x]=clean_secop2[x].apply(lambda y: float(y))\n",
        "for x in cols_date2:\n",
        "  clean_secop2[x]=clean_secop2[x].apply(lambda y: datetime.strptime(str(y)[:10],\"%Y-%m-%d\"))\n",
        "clean_secop2.descripcion_del_proceso\t=clean_secop2.descripcion_del_proceso.apply(lambda x: x.lower())"
      ],
      "execution_count": null,
      "outputs": []
    },
    {
      "cell_type": "code",
      "metadata": {
        "id": "IQ9rRJjNrYVk"
      },
      "source": [
        "#Cleaning tittles of columns\n",
        "cols_dirty_secopii=clean_secop2.columns.to_list()\n",
        "cols_clean_secopii=list (map(Nombre_Limpio,cols_dirty_secopii))\n",
        "clean_secop2.columns=cols_clean_secopii\n",
        "cols_nums2=list (map(Nombre_Limpio,cols_nums2))\n",
        "col_dates2 = list (map(Nombre_Limpio,cols_date2))\n",
        "col_dates2"
      ],
      "execution_count": null,
      "outputs": []
    },
    {
      "cell_type": "code",
      "metadata": {
        "id": "zl2tMZT5CwlI"
      },
      "source": [
        "# Identify Outliers, days are too concentrated at the right that's why the filters is different for this variable.\n",
        "cleanii_sindias=Outliers(clean_secop2,['valor del contrato','valor facturado', 'valor pagado', 'valor pendiente de ejecucion','saldo cdp'])\n",
        "cleanii=cleanii_sindias[cleanii_sindias['dias adicionados']<cleanii_sindias['dias adicionados'].quantile(0.99)].reset_index(drop=True)\n",
        "cleanii\n"
      ],
      "execution_count": null,
      "outputs": []
    },
    {
      "cell_type": "code",
      "metadata": {
        "id": "G3GysQL2CFZ6"
      },
      "source": [
        "#Select columns string variables to graph\n",
        "colsii=clean_secop1.columns.to_list()\n",
        "colsii=[x for x in cols_clean_secopii if x not in col_dates2 and x not in cols_nums2]\n",
        "colsii"
      ],
      "execution_count": null,
      "outputs": []
    },
    {
      "cell_type": "code",
      "metadata": {
        "id": "TscjU7KhtAl-"
      },
      "source": [
        "for col in colsii:\n",
        "  GraficosConteos(cleanii,col)"
      ],
      "execution_count": null,
      "outputs": []
    },
    {
      "cell_type": "code",
      "metadata": {
        "id": "H2LIXjh1CTCO"
      },
      "source": [
        "for col in cols_nums2:\n",
        "  GraficosBoxplot(cleanii,col)"
      ],
      "execution_count": null,
      "outputs": []
    },
    {
      "cell_type": "code",
      "metadata": {
        "id": "qHVcYtzTMWZG"
      },
      "source": [
        "import plotly.offline as py #visualization\n",
        "import plotly.graph_objs as go\n",
        "from plotly.offline import *\n",
        "#correlation\n",
        "correlation = cleanii.corr()\n",
        "#tick labels\n",
        "matrix_cols = correlation.columns.tolist()\n",
        "#convert to array\n",
        "corr_array  = np.array(correlation)\n",
        "\n",
        "#Plotting\n",
        "trace = go.Heatmap(z = corr_array,\n",
        "                   x = matrix_cols,\n",
        "                   y = matrix_cols,\n",
        "                   colorscale = \"Viridis\",\n",
        "                   colorbar   = dict(title = \"Pearson Correlation coefficient\",\n",
        "                                     titleside = \"right\"\n",
        "                                    ) ,\n",
        "                  )\n",
        "\n",
        "layout = go.Layout(dict(title = \" Matrix Correlaccion Matrix for secopi\",\n",
        "                        autosize = True,\n",
        "                        height  = 720,\n",
        "                        width   = 800,\n",
        "                        margin  = dict(r = 0 ,l = 210,\n",
        "                                       t = 25,b = 210,\n",
        "                                      ),\n",
        "                        yaxis   = dict(tickfont = dict(size = 9)),\n",
        "                        xaxis   = dict(tickfont = dict(size = 9))\n",
        "                       )\n",
        "                  )\n",
        "\n",
        "data = [trace]\n",
        "fig = go.Figure(data=data,layout=layout)\n",
        "fig.write_image(f\"images/matriz de secopII.png\")\n",
        "py.iplot(fig)"
      ],
      "execution_count": null,
      "outputs": []
    },
    {
      "cell_type": "code",
      "metadata": {
        "id": "p4QucKSaUPAs"
      },
      "source": [
        "import re\n",
        "from itertools import tee, islice\n",
        "import itertools\n",
        "from collections import Counter\n",
        "from datetime import datetime\n",
        "from sklearn.feature_extraction.text import CountVectorizer\n",
        "import nltk\n",
        "from nltk.corpus import stopwords\n",
        "from nltk import FreqDist\n",
        "nltk.download('punkt')\n",
        "nltk.download('stopwords')\n",
        "nltk.download('averaged_perceptron_tagger')\n",
        "\n",
        "def CommonWords(df):\n",
        "  global df_dist\n",
        "  letters_only = re.sub(\"[^a-zA-Z]\", \" \", df)\n",
        "  words = letters_only.lower().split()\n",
        "  stops = set(stopwords.words(\"spanish\"))\n",
        "  stops.update(['n','t','p','d','th'])\n",
        "  meaningful_words = [w for w in words if not w in stops]\n",
        "  fdist = FreqDist(meaningful_words)\n",
        "  df_dist = pd.DataFrame.from_dict(fdist, orient='index')\n",
        "  df_dist=df_dist.reset_index()\n",
        "  df_dist.columns=[\"Palabra\",\"Frecuencia\"]\n",
        "  df_dist=df_dist.sort_values(by=\"Frecuencia\",ascending=False).reset_index(drop= True)\n",
        "  fig=px.bar(df_dist[:20],x=\"Palabra\",y=\"Frecuencia\",text=\"Frecuencia\", title=\"Gráfico de Frecuencia de palabras frecuentes\")\n",
        "  fig.write_image(f\"images/Gráfico de Frecuencia de palabras frecuentes.png\")\n",
        "  fig.show()\n",
        "  return df_dist\n",
        "\n",
        "def Frequency(Negative_list):\n",
        "  Negative_After_df=pd.DataFrame.from_dict(Counter(Negative_list), orient='index').reset_index()\n",
        "  Negative_After_df.columns=[\"Word\",\"Frecuencia\"]\n",
        "  Negative_After_df=Negative_After_df.sort_values(by=\"Frecuencia\", ascending= False).reset_index(drop=True)\n",
        "  return Negative_After_df\n",
        "\n",
        "\n",
        "def ngrams(lst, n):\n",
        "    tlst = lst\n",
        "    while True:\n",
        "       a, b = tee(tlst)\n",
        "       l = tuple(islice(a, n))\n",
        "       if len(l) == n:\n",
        "         yield l ## Crea un generador, metodo que contiene todo los ngrams que se pudieron sacar.  \n",
        "         next(b)\n",
        "         tlst = b\n",
        "       else:\n",
        "        break\n",
        "def Ndiagrams(df,number):\n",
        "  \"\"\" It requieres a dataframe and the number of ngrams\n",
        "      It returns a dataframe with the ngrams frequency\n",
        "  df=DataFrame\n",
        "  number= Number of ngrams required\n",
        "  \"\"\"\n",
        "  letters_only = re.sub(\"[^a-zA-Z]\", \" \", df)\n",
        "  words = letters_only.lower().split()\n",
        "  stops = set(stopwords.words(\"spanish\"))\n",
        "  stops.update(['n','t','p','d','th'])\n",
        "  test = [w for w in words if not w in stops]\n",
        "  Ngrams=Counter(ngrams(test, number))\n",
        "  final_df=pd.DataFrame.from_dict(Ngrams, orient='index').reset_index()\n",
        "  final_df.columns=[f\"{number}-gram\",\"Frecuencia\"]\n",
        "  final_df=final_df.sort_values(by=\"Frecuencia\", ascending= False).reset_index(drop=True)\n",
        "  final_df[f\"{number}-gram\"]=final_df[f\"{number}-gram\"].apply(lambda x:str(x))\n",
        "  fig=px.bar(final_df[:20],x=f\"{number}-gram\",y=\"Frecuencia\",text=\"Frecuencia\", title=f\"Gráfico de Frecuencia de {number}-gram\")\n",
        "  fig.write_image(f\"images/Gráfico de Frecuencia de {number}-gram.png\")\n",
        "  fig.show()\n",
        "  \n",
        "  return final_df"
      ],
      "execution_count": null,
      "outputs": []
    },
    {
      "cell_type": "code",
      "metadata": {
        "id": "myUslbCLW4nU"
      },
      "source": [
        "Descripciones_secopi=cleani[\"detalle del objeto a contratar\"].to_string()\n",
        "DetalleI=CommonWords(Descripciones_secopi)\n",
        "DetalleI"
      ],
      "execution_count": null,
      "outputs": []
    },
    {
      "cell_type": "code",
      "metadata": {
        "id": "HLVoZoNWul1A"
      },
      "source": [
        "SecondSecopI= Ndiagrams(Descripciones_secopi,2)\n",
        "SecondSecopI= Ndiagrams(Descripciones_secopi,3)"
      ],
      "execution_count": null,
      "outputs": []
    },
    {
      "cell_type": "code",
      "metadata": {
        "id": "tUwBhbiEaIVU"
      },
      "source": [
        "Descripciones_secopii=cleanii[\"descripcion del proceso\"].to_string()\n",
        "DetalleII=CommonWords(Descripciones_secopii)\n",
        "DetalleII"
      ],
      "execution_count": null,
      "outputs": []
    },
    {
      "cell_type": "code",
      "metadata": {
        "id": "dYNMBhdhb0oi"
      },
      "source": [
        "SecondSecopII= Ndiagrams(Descripciones_secopii,3)\n"
      ],
      "execution_count": null,
      "outputs": []
    },
    {
      "cell_type": "markdown",
      "metadata": {
        "id": "aRR25aJlC_Zr"
      },
      "source": [
        "Tienda Virtual"
      ]
    },
    {
      "cell_type": "code",
      "metadata": {
        "id": "92bZcM6uw1aV"
      },
      "source": [
        "clean_tienda=df_tienda.drop(columns=['espostconflicto','nit_proveedor'])\n",
        "cols_nums3=[\"a_o\",\"total\"]\n",
        "fechas_tienda=[\"fecha\"]\n",
        "for x in cols_nums3:\n",
        "  clean_tienda[x]=clean_tienda[x].apply(lambda y: float(y))\n",
        "for x in fechas_tienda:\n",
        "  clean_tienda[x]=clean_tienda[x].apply(lambda y: datetime.strptime(str(y[:10]),\"%Y-%m-%d\"))"
      ],
      "execution_count": null,
      "outputs": []
    },
    {
      "cell_type": "markdown",
      "metadata": {
        "id": "Oev-QwLbDDsr"
      },
      "source": [
        "Graficas de conteo por variable"
      ]
    }
  ]
}